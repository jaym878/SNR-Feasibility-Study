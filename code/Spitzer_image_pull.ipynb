{
 "cells": [
  {
   "cell_type": "code",
   "execution_count": 1,
   "metadata": {},
   "outputs": [],
   "source": [
    "# Imported packages\n",
    "import numpy as np\n",
    "import math\n",
    "from matplotlib import pyplot as plt"
   ]
  },
  {
   "cell_type": "code",
   "execution_count": 2,
   "metadata": {},
   "outputs": [
    {
     "name": "stderr",
     "output_type": "stream",
     "text": [
      "/home/murphyj/anaconda3/lib/python3.6/site-packages/ipykernel_launcher.py:1: VisibleDeprecationWarning: Reading unicode strings without specifying the encoding argument is deprecated. Set the encoding, use None for the system default.\n",
      "  \"\"\"Entry point for launching an IPython kernel.\n"
     ]
    }
   ],
   "source": [
    "# Loads csv file\n",
    "line = np.genfromtxt(open('/home/murphyj/Desktop/Coding/SNR_list.csv', \"r\"), names=True, delimiter=',', dtype=None)"
   ]
  },
  {
   "cell_type": "code",
   "execution_count": 3,
   "metadata": {},
   "outputs": [],
   "source": [
    "# Defines Columns as lists\n",
    "MCSNR = []#0\n",
    "RA = []#1\n",
    "DE = []#2\n",
    "Rad = []#8\n",
    "kT = []#12\n",
    "VShock = []#16\n",
    "Age = []#18\n",
    "LX = []#4\n",
    "LIR = []#7\n",
    "\n",
    "num = line.shape[0]\n",
    "for n in range(num):\n",
    "    #print(l)\n",
    "    name = line[n][0]\n",
    "    MCSNR.append(name)\n",
    "MCSNR = np.asarray(MCSNR)\n",
    "\n",
    "num = line.shape[0]\n",
    "for n in range(num):\n",
    "    #print(l)\n",
    "    name = line[n][1]\n",
    "    RA.append(name)\n",
    "RA = np.asarray(RA)\n",
    "\n",
    "num = line.shape[0]\n",
    "for n in range(num):\n",
    "    #print(l)\n",
    "    name = line[n][2]\n",
    "    DE.append(name)\n",
    "DE = np.asarray(DE)\n",
    "\n",
    "num = line.shape[0]\n",
    "for n in range(num):\n",
    "    #print(l)\n",
    "    name = line[n][8]\n",
    "    Rad.append(name)\n",
    "Rad = np.asarray(Rad)\n",
    "\n",
    "num = line.shape[0]\n",
    "for n in range(num):\n",
    "    #print(l)\n",
    "    name = line[n][12]\n",
    "    kT.append(name)\n",
    "kT = np.asarray(kT)\n",
    "\n",
    "num = line.shape[0]\n",
    "for n in range(num):\n",
    "    #print(l)\n",
    "    name = line[n][17]\n",
    "    VShock.append(name)\n",
    "VShock = np.asarray(VShock)\n",
    "\n",
    "num = line.shape[0]\n",
    "for n in range(num):\n",
    "    #print(l)\n",
    "    name = line[n][20]\n",
    "    Age.append(name)\n",
    "Age = np.asarray(Age)\n",
    "\n",
    "num = line.shape[0]\n",
    "for n in range(num):\n",
    "    #print(l)\n",
    "    name = line[n][4]\n",
    "    LX.append(name)\n",
    "LX = np.asarray(LX)\n",
    "\n",
    "num = line.shape[0]\n",
    "for n in range(num):\n",
    "    #print(l)\n",
    "    name = line[n][7]\n",
    "    LIR.append(name)\n",
    "LIR = np.asarray(LIR)"
   ]
  },
  {
   "cell_type": "code",
   "execution_count": 27,
   "metadata": {},
   "outputs": [],
   "source": [
    "# Decodes bytes to strings\n",
    "x = [Ra.decode('UTF-8') for Ra in RA]\n",
    "y = [Dec.decode('UTF-8') for Dec in DE]\n",
    "\n",
    "# Creates Ra and Dec formats from data\n",
    "im_ra = []\n",
    "for n in range(num):\n",
    "    things = x[n].split()\n",
    "    Ra = things[0]+'h'+things[1]+'m'+things[2]+'s'\n",
    "    im_ra.append(Ra)\n",
    "#print(X[1])\n",
    "\n",
    "im_dec = []\n",
    "for n in range(num):\n",
    "    things = y[n].split()\n",
    "    Dec = things[0]+'d'+things[1]+'m'+things[2]+'s'\n",
    "    im_dec.append(Dec)\n",
    "#print(Y[1])"
   ]
  },
  {
   "cell_type": "code",
   "execution_count": 29,
   "metadata": {},
   "outputs": [
    {
     "name": "stdout",
     "output_type": "stream",
     "text": [
      "680.0\n",
      "340.0\n"
     ]
    }
   ],
   "source": [
    "# Defines image sizes\n",
    "im_size_as = Rad * 2\n",
    "im_size_deg = im_size_as * 0.000277778"
   ]
  },
  {
   "cell_type": "code",
   "execution_count": null,
   "metadata": {},
   "outputs": [],
   "source": [
    "# Todo\n",
    "# Astroquery"
   ]
  }
 ],
 "metadata": {
  "kernelspec": {
   "display_name": "Python 3",
   "language": "python",
   "name": "python3"
  },
  "language_info": {
   "codemirror_mode": {
    "name": "ipython",
    "version": 3
   },
   "file_extension": ".py",
   "mimetype": "text/x-python",
   "name": "python",
   "nbconvert_exporter": "python",
   "pygments_lexer": "ipython3",
   "version": "3.6.5"
  }
 },
 "nbformat": 4,
 "nbformat_minor": 2
}
