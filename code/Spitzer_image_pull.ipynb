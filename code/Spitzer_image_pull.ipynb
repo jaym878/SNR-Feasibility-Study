{
 "cells": [
  {
   "cell_type": "code",
   "execution_count": 1,
   "metadata": {},
   "outputs": [
    {
     "name": "stderr",
     "output_type": "stream",
     "text": [
      "/home/murphyj/anaconda3/lib/python3.6/site-packages/astroquery/sha/__init__.py:14: UserWarning: Experimental: SHA has not yet been refactored to have its API match the rest of astroquery.\n",
      "  warnings.warn(\"Experimental: SHA has not yet been refactored to have its \"\n"
     ]
    }
   ],
   "source": [
    "# Imported packages\n",
    "import os, glob\n",
    "\n",
    "import numpy as np\n",
    "import math\n",
    "from matplotlib import pyplot as plt\n",
    "from astroquery import sha\n",
    "from astropy import coordinates as coord\n",
    "#from astropy.coordinates import SkyCoord\n",
    "from astropy import units as u\n",
    "\n",
    "from urllib.parse import urlencode\n",
    "from urllib.request import urlretrieve\n",
    "from IPython.display import Image"
   ]
  },
  {
   "cell_type": "code",
   "execution_count": 2,
   "metadata": {},
   "outputs": [
    {
     "name": "stderr",
     "output_type": "stream",
     "text": [
      "/home/murphyj/anaconda3/lib/python3.6/site-packages/ipykernel_launcher.py:2: VisibleDeprecationWarning: Reading unicode strings without specifying the encoding argument is deprecated. Set the encoding, use None for the system default.\n",
      "  \n"
     ]
    }
   ],
   "source": [
    "# Loads csv file\n",
    "line = np.genfromtxt(open('/home/murphyj/Desktop/Coding/SNR_list.csv', \"r\"), names=True, delimiter=',', dtype=None)"
   ]
  },
  {
   "cell_type": "code",
   "execution_count": 3,
   "metadata": {},
   "outputs": [],
   "source": [
    "# Defines Columns as lists\n",
    "MCSNR = []#0\n",
    "RA = []#1\n",
    "DE = []#2\n",
    "Rad = []#8\n",
    "kT = []#12\n",
    "VShock = []#16\n",
    "Age = []#18\n",
    "LX = []#4\n",
    "LIR = []#7\n",
    "\n",
    "num = line.shape[0]\n",
    "for n in range(num):\n",
    "    #print(l)\n",
    "    name = line[n][0]\n",
    "    MCSNR.append(name)\n",
    "MCSNR = np.asarray(MCSNR)\n",
    "\n",
    "num = line.shape[0]\n",
    "for n in range(num):\n",
    "    #print(l)\n",
    "    name = line[n][1]\n",
    "    RA.append(name)\n",
    "RA = np.asarray(RA)\n",
    "\n",
    "num = line.shape[0]\n",
    "for n in range(num):\n",
    "    #print(l)\n",
    "    name = line[n][2]\n",
    "    DE.append(name)\n",
    "DE = np.asarray(DE)\n",
    "\n",
    "num = line.shape[0]\n",
    "for n in range(num):\n",
    "    #print(l)\n",
    "    name = line[n][8]\n",
    "    Rad.append(name)\n",
    "Rad = np.asarray(Rad)\n",
    "\n",
    "num = line.shape[0]\n",
    "for n in range(num):\n",
    "    #print(l)\n",
    "    name = line[n][12]\n",
    "    kT.append(name)\n",
    "kT = np.asarray(kT)\n",
    "\n",
    "num = line.shape[0]\n",
    "for n in range(num):\n",
    "    #print(l)\n",
    "    name = line[n][17]\n",
    "    VShock.append(name)\n",
    "VShock = np.asarray(VShock)\n",
    "\n",
    "num = line.shape[0]\n",
    "for n in range(num):\n",
    "    #print(l)\n",
    "    name = line[n][20]\n",
    "    Age.append(name)\n",
    "Age = np.asarray(Age)\n",
    "\n",
    "num = line.shape[0]\n",
    "for n in range(num):\n",
    "    #print(l)\n",
    "    name = line[n][4]\n",
    "    LX.append(name)\n",
    "LX = np.asarray(LX)\n",
    "\n",
    "num = line.shape[0]\n",
    "for n in range(num):\n",
    "    #print(l)\n",
    "    name = line[n][7]\n",
    "    LIR.append(name)\n",
    "LIR = np.asarray(LIR)"
   ]
  },
  {
   "cell_type": "code",
   "execution_count": 4,
   "metadata": {},
   "outputs": [
    {
     "name": "stdout",
     "output_type": "stream",
     "text": [
      "04h49m20s\n"
     ]
    }
   ],
   "source": [
    "# Decodes bytes to strings\n",
    "x = [Ra.decode('UTF-8') for Ra in RA]\n",
    "y = [Dec.decode('UTF-8') for Dec in DE]\n",
    "\n",
    "# Creates Ra and Dec formats from data\n",
    "im_ra = []\n",
    "for n in range(num):\n",
    "    things = x[n].split()\n",
    "    Ra = things[0]+'h'+things[1]+'m'+things[2]+'s'\n",
    "    im_ra.append(Ra)\n",
    "print(im_ra[0])\n",
    "\n",
    "im_dec = []\n",
    "for n in range(num):\n",
    "    things = y[n].split()\n",
    "    Dec = things[0]+'d'+things[1]+'m'+things[2]+'s'\n",
    "    im_dec.append(Dec)\n",
    "#print(Dec[1])"
   ]
  },
  {
   "cell_type": "code",
   "execution_count": 5,
   "metadata": {},
   "outputs": [],
   "source": [
    "# Defines image sizes\n",
    "im_size_as = Rad * 2\n",
    "im_size_deg = im_size_as / 3600\n",
    "im_size_am = im_size_as / 60"
   ]
  },
  {
   "cell_type": "code",
   "execution_count": 6,
   "metadata": {},
   "outputs": [],
   "source": [
    "# Todo\n",
    "# Astroquery\n",
    "im_size = im_size_am*u.arcmin\n",
    "im_pixels = 1024"
   ]
  },
  {
   "cell_type": "code",
   "execution_count": 7,
   "metadata": {},
   "outputs": [
    {
     "name": "stdout",
     "output_type": "stream",
     "text": [
      "04h49m20s\n"
     ]
    }
   ],
   "source": [
    "test_src_coord = [im_ra[0], im_dec[0]]\n",
    "print(im_ra[0])"
   ]
  },
  {
   "cell_type": "code",
   "execution_count": 8,
   "metadata": {},
   "outputs": [],
   "source": [
    "my_query = sha.query(coord=coord.SkyCoord(im_ra[0], im_dec[0], frame='icrs'), size=0.001)"
   ]
  },
  {
   "cell_type": "code",
   "execution_count": 9,
   "metadata": {},
   "outputs": [
    {
     "name": "stdout",
     "output_type": "stream",
     "text": [
      "<TableColumns names=('reqkey','modedisplayname','wavelength','cra','cdec','filetype','externalname','ptcomment','ra','dec','epoch','equinox','begintime','endtime','minwavelength','maxwavelength','pbcdid','filesize','campid','ra1','dec1','ra2','dec2','ra3','dec3','ra4','dec4','naxis1','naxis2','cdelt1','cdelt2','crota2','crpix1','crpix2','crval1','crval2','ctype1','ctype2','heritagefilename','hasAccess','accessUrl','accessWithAnc1Url')>\n"
     ]
    }
   ],
   "source": [
    "print(my_query.columns)"
   ]
  },
  {
   "cell_type": "code",
   "execution_count": 10,
   "metadata": {},
   "outputs": [
    {
     "name": "stdout",
     "output_type": "stream",
     "text": [
      "modedisplayname   wavelength  filetype  filesize                        ptcomment                        \n",
      "---------------- ----------- --------- --------- --------------------------------------------------------\n",
      " MIPS Scan        MIPS 24um   Image     22161600  Mosaic image                                           \n",
      " IRAC Map PC      IRAC 3.6um  Image      9622080  Mosaic image (long frametime if data taken in HDR mode)\n",
      " IRAC Map PC      IRAC 3.6um  Image      9613440  Mosaic image (long frametime if data taken in HDR mode)\n",
      " IRAC Map PC      IRAC 3.6um  Image      9627840  Mosaic image (long frametime if data taken in HDR mode)\n",
      " IRAC Map PC      IRAC 4.5um  Image      9613440  Mosaic image (long frametime if data taken in HDR mode)\n",
      " IRAC Map PC      IRAC 3.6um  Image      9613440  Mosaic image (long frametime if data taken in HDR mode)\n",
      " IRAC Map PC      IRAC 3.6um  Image      9622080  Mosaic image (long frametime if data taken in HDR mode)\n",
      " IRAC Map PC      IRAC 4.5um  Image      9627840  Mosaic image (long frametime if data taken in HDR mode)\n",
      " IRAC Map PC      IRAC 4.5um  Image      9622080  Mosaic image (long frametime if data taken in HDR mode)\n",
      " IRAC Map PC      IRAC 4.5um  Image      9622080  Mosaic image (long frametime if data taken in HDR mode)\n",
      " IRAC Map PC      IRAC 4.5um  Image      9627840  Mosaic image (long frametime if data taken in HDR mode)\n",
      " IRAC Map PC      IRAC 3.6um  Image      9622080  Mosaic image (long frametime if data taken in HDR mode)\n",
      " IRAC Map PC      IRAC 3.6um  Image      9613440  Mosaic image (long frametime if data taken in HDR mode)\n",
      " IRAC Map         IRAC 8.0um  Image    234357120  Mosaic image (long frametime if data taken in HDR mode)\n",
      " IRAC Map PC      IRAC 3.6um  Image      9622080  Mosaic image (long frametime if data taken in HDR mode)\n",
      " IRAC Map         IRAC 3.6um  Image    234348480  Mosaic image (long frametime if data taken in HDR mode)\n",
      " IRAC Map PC      IRAC 4.5um  Image      9613440  Mosaic image (long frametime if data taken in HDR mode)\n",
      " IRAC Map         IRAC 5.8um  Image    234348480  Mosaic image (long frametime if data taken in HDR mode)\n",
      " IRAC Map PC      IRAC 4.5um  Image      9627840  Mosaic image (long frametime if data taken in HDR mode)\n",
      " IRAC Map PC      IRAC 4.5um  Image      9622080  Mosaic image (long frametime if data taken in HDR mode)\n",
      " IRAC Map PC      IRAC 4.5um  Image      9613440  Mosaic image (long frametime if data taken in HDR mode)\n",
      " IRAC Map PC      IRAC 4.5um  Image      9619200  Mosaic image (long frametime if data taken in HDR mode)\n",
      " IRAC Map PC      IRAC 3.6um  Image      9627840  Mosaic image (long frametime if data taken in HDR mode)\n",
      " IRAC Map PC      IRAC 3.6um  Image      9619200  Mosaic image (long frametime if data taken in HDR mode)\n",
      " MIPS Scan        MIPS 70um   Image     10359360  Mosaic image                                           \n",
      " IRAC Map PC      IRAC 4.5um  Image      9622080  Mosaic image (long frametime if data taken in HDR mode)\n",
      " IRAC Map PC      IRAC 3.6um  Image      9622080  Mosaic image (long frametime if data taken in HDR mode)\n",
      " IRAC Map         IRAC 3.6um  Image    234357120  Mosaic image (long frametime if data taken in HDR mode)\n",
      " MIPS Scan        MIPS 24um   Image     22150080  Mosaic image                                           \n",
      " IRAC Map PC      IRAC 4.5um  Image      9613440  Mosaic image (long frametime if data taken in HDR mode)\n",
      " IRAC Map PC      IRAC 3.6um  Image      9622080  Mosaic image (long frametime if data taken in HDR mode)\n",
      " IRAC Map PC      IRAC 4.5um  Image      9616320  Mosaic image (long frametime if data taken in HDR mode)\n",
      " IRAC Map PC      IRAC 3.6um  Image      9622080  Mosaic image (long frametime if data taken in HDR mode)\n",
      " IRAC Map PC      IRAC 3.6um  Image      9616320  Mosaic image (long frametime if data taken in HDR mode)\n",
      " MIPS Scan        MIPS 160um  Image      2125440  Mosaic image                                           \n",
      " IRAC Map PC      IRAC 3.6um  Image      9622080  Mosaic image (long frametime if data taken in HDR mode)\n",
      " IRAC Map PC      IRAC 4.5um  Image      9622080  Mosaic image (long frametime if data taken in HDR mode)\n",
      " MIPS Scan        MIPS 160um  Image      2134080  Mosaic image                                           \n",
      " IRAC Map         IRAC 4.5um  Image    234357120  Mosaic image (long frametime if data taken in HDR mode)\n",
      " MIPS Scan        MIPS 24um   Image     21493440  Mosaic image                                           \n",
      " IRAC Map PC      IRAC 3.6um  Image      9613440  Mosaic image (long frametime if data taken in HDR mode)\n",
      " IRAC Map PC      IRAC 3.6um  Image      9622080  Mosaic image (long frametime if data taken in HDR mode)\n",
      " IRAC Map PC      IRAC 3.6um  Image      9613440  Mosaic image (long frametime if data taken in HDR mode)\n",
      " IRAC Map PC      IRAC 4.5um  Image      9622080  Mosaic image (long frametime if data taken in HDR mode)\n",
      " IRAC Map PC      IRAC 3.6um  Image      9613440  Mosaic image (long frametime if data taken in HDR mode)\n",
      " IRAC Map PC      IRAC 4.5um  Image      9622080  Mosaic image (long frametime if data taken in HDR mode)\n",
      " IRAC Map PC      IRAC 4.5um  Image      9622080  Mosaic image (long frametime if data taken in HDR mode)\n",
      " IRAC Map PC      IRAC 4.5um  Image      9622080  Mosaic image (long frametime if data taken in HDR mode)\n",
      " IRAC Map PC      IRAC 3.6um  Image      9627840  Mosaic image (long frametime if data taken in HDR mode)\n",
      " IRAC Map         IRAC 8.0um  Image    234348480  Mosaic image (long frametime if data taken in HDR mode)\n",
      " IRAC Map PC      IRAC 4.5um  Image      9627840  Mosaic image (long frametime if data taken in HDR mode)\n",
      " IRAC Map PC      IRAC 3.6um  Image      9613440  Mosaic image (long frametime if data taken in HDR mode)\n",
      " IRAC Map PC      IRAC 4.5um  Image      9613440  Mosaic image (long frametime if data taken in HDR mode)\n",
      " IRAC Map         IRAC 5.8um  Image    234357120  Mosaic image (long frametime if data taken in HDR mode)\n",
      " IRAC Map PC      IRAC 3.6um  Image      9627840  Mosaic image (long frametime if data taken in HDR mode)\n",
      " IRAC Map PC      IRAC 4.5um  Image      9613440  Mosaic image (long frametime if data taken in HDR mode)\n",
      " MIPS Scan        MIPS 70um   Image     10111680  Mosaic image                                           \n",
      " IRAC Map PC      IRAC 4.5um  Image      9613440  Mosaic image (long frametime if data taken in HDR mode)\n",
      " IRAC Map PC      IRAC 3.6um  Image      9622080  Mosaic image (long frametime if data taken in HDR mode)\n",
      " IRAC Map         IRAC 4.5um  Image    234348480  Mosaic image (long frametime if data taken in HDR mode)\n",
      " IRAC Map PC      IRAC 4.5um  Image      9613440  Mosaic image (long frametime if data taken in HDR mode)\n",
      " IRAC Map PC      IRAC 3.6um  Image      9613440  Mosaic image (long frametime if data taken in HDR mode)\n",
      " IRAC Map PC      IRAC 4.5um  Image      9622080  Mosaic image (long frametime if data taken in HDR mode)\n",
      " MIPS Scan        MIPS 70um   Image     10117440  Mosaic image                                           \n"
     ]
    }
   ],
   "source": [
    "my_query['modedisplayname', 'wavelength', 'filetype', 'filesize', 'ptcomment'].pprint(max_lines=100, max_width=-1) "
   ]
  },
  {
   "cell_type": "code",
   "execution_count": 11,
   "metadata": {},
   "outputs": [
    {
     "name": "stdout",
     "output_type": "stream",
     "text": [
      "modedisplayname   wavelength  filetype  filesize                        ptcomment                        \n",
      "---------------- ----------- --------- --------- --------------------------------------------------------\n",
      " IRAC Map PC      IRAC 3.6um  Image      9622080  Mosaic image (long frametime if data taken in HDR mode)\n",
      " IRAC Map PC      IRAC 3.6um  Image      9613440  Mosaic image (long frametime if data taken in HDR mode)\n",
      " IRAC Map PC      IRAC 3.6um  Image      9627840  Mosaic image (long frametime if data taken in HDR mode)\n",
      " IRAC Map PC      IRAC 3.6um  Image      9613440  Mosaic image (long frametime if data taken in HDR mode)\n",
      " IRAC Map PC      IRAC 3.6um  Image      9622080  Mosaic image (long frametime if data taken in HDR mode)\n",
      " IRAC Map PC      IRAC 3.6um  Image      9622080  Mosaic image (long frametime if data taken in HDR mode)\n",
      " IRAC Map PC      IRAC 3.6um  Image      9613440  Mosaic image (long frametime if data taken in HDR mode)\n",
      " IRAC Map PC      IRAC 3.6um  Image      9622080  Mosaic image (long frametime if data taken in HDR mode)\n",
      " IRAC Map         IRAC 3.6um  Image    234348480  Mosaic image (long frametime if data taken in HDR mode)\n",
      " IRAC Map PC      IRAC 3.6um  Image      9627840  Mosaic image (long frametime if data taken in HDR mode)\n",
      " IRAC Map PC      IRAC 3.6um  Image      9619200  Mosaic image (long frametime if data taken in HDR mode)\n",
      " IRAC Map PC      IRAC 3.6um  Image      9622080  Mosaic image (long frametime if data taken in HDR mode)\n",
      " IRAC Map         IRAC 3.6um  Image    234357120  Mosaic image (long frametime if data taken in HDR mode)\n",
      " IRAC Map PC      IRAC 3.6um  Image      9622080  Mosaic image (long frametime if data taken in HDR mode)\n",
      " IRAC Map PC      IRAC 3.6um  Image      9622080  Mosaic image (long frametime if data taken in HDR mode)\n",
      " IRAC Map PC      IRAC 3.6um  Image      9616320  Mosaic image (long frametime if data taken in HDR mode)\n",
      " IRAC Map PC      IRAC 3.6um  Image      9622080  Mosaic image (long frametime if data taken in HDR mode)\n",
      " IRAC Map PC      IRAC 3.6um  Image      9613440  Mosaic image (long frametime if data taken in HDR mode)\n",
      " IRAC Map PC      IRAC 3.6um  Image      9622080  Mosaic image (long frametime if data taken in HDR mode)\n",
      " IRAC Map PC      IRAC 3.6um  Image      9613440  Mosaic image (long frametime if data taken in HDR mode)\n",
      " IRAC Map PC      IRAC 3.6um  Image      9613440  Mosaic image (long frametime if data taken in HDR mode)\n",
      " IRAC Map PC      IRAC 3.6um  Image      9627840  Mosaic image (long frametime if data taken in HDR mode)\n",
      " IRAC Map PC      IRAC 3.6um  Image      9613440  Mosaic image (long frametime if data taken in HDR mode)\n",
      " IRAC Map PC      IRAC 3.6um  Image      9627840  Mosaic image (long frametime if data taken in HDR mode)\n",
      " IRAC Map PC      IRAC 3.6um  Image      9622080  Mosaic image (long frametime if data taken in HDR mode)\n",
      " IRAC Map PC      IRAC 3.6um  Image      9613440  Mosaic image (long frametime if data taken in HDR mode)\n"
     ]
    }
   ],
   "source": [
    "irac_36_mask = (my_query['wavelength'] == ' IRAC 3.6um')\n",
    "irac_36_tbl = my_query[irac_36_mask]\n",
    "irac_36_tbl['modedisplayname', 'wavelength', 'filetype', 'filesize', 'ptcomment'].pprint(max_lines=100, max_width=-1) "
   ]
  },
  {
   "cell_type": "code",
   "execution_count": 12,
   "metadata": {},
   "outputs": [
    {
     "name": "stdout",
     "output_type": "stream",
     "text": [
      "Getting:  http://sha.ipac.caltech.edu/applications/Spitzer/SHA/servlet/ProductDownload?DATASET=level2&ID=11734587   \n",
      "Getting:  http://sha.ipac.caltech.edu/applications/Spitzer/SHA/servlet/ProductDownload?DATASET=level2&ID=11890877   \n",
      "Getting:  http://sha.ipac.caltech.edu/applications/Spitzer/SHA/servlet/ProductDownload?DATASET=level2&ID=11921087   \n",
      "Getting:  http://sha.ipac.caltech.edu/applications/Spitzer/SHA/servlet/ProductDownload?DATASET=level2&ID=11642554   \n",
      "Getting:  http://sha.ipac.caltech.edu/applications/Spitzer/SHA/servlet/ProductDownload?DATASET=level2&ID=11731875   \n",
      "Getting:  http://sha.ipac.caltech.edu/applications/Spitzer/SHA/servlet/ProductDownload?DATASET=level2&ID=11619503   \n",
      "Getting:  http://sha.ipac.caltech.edu/applications/Spitzer/SHA/servlet/ProductDownload?DATASET=level2&ID=11661742   \n",
      "Getting:  http://sha.ipac.caltech.edu/applications/Spitzer/SHA/servlet/ProductDownload?DATASET=level2&ID=11804182   \n",
      "Getting:  http://sha.ipac.caltech.edu/applications/Spitzer/SHA/servlet/ProductDownload?DATASET=level2&ID=8697894    \n",
      "Getting:  http://sha.ipac.caltech.edu/applications/Spitzer/SHA/servlet/ProductDownload?DATASET=level2&ID=11720222   \n",
      "Getting:  http://sha.ipac.caltech.edu/applications/Spitzer/SHA/servlet/ProductDownload?DATASET=level2&ID=11762205   \n",
      "Getting:  http://sha.ipac.caltech.edu/applications/Spitzer/SHA/servlet/ProductDownload?DATASET=level2&ID=11929477   \n",
      "Getting:  http://sha.ipac.caltech.edu/applications/Spitzer/SHA/servlet/ProductDownload?DATASET=level2&ID=8692656    \n",
      "Getting:  http://sha.ipac.caltech.edu/applications/Spitzer/SHA/servlet/ProductDownload?DATASET=level2&ID=11668616   \n",
      "Getting:  http://sha.ipac.caltech.edu/applications/Spitzer/SHA/servlet/ProductDownload?DATASET=level2&ID=11634442   \n",
      "Getting:  http://sha.ipac.caltech.edu/applications/Spitzer/SHA/servlet/ProductDownload?DATASET=level2&ID=11608589   \n",
      "Getting:  http://sha.ipac.caltech.edu/applications/Spitzer/SHA/servlet/ProductDownload?DATASET=level2&ID=11720207   \n",
      "Getting:  http://sha.ipac.caltech.edu/applications/Spitzer/SHA/servlet/ProductDownload?DATASET=level2&ID=11630965   \n",
      "Getting:  http://sha.ipac.caltech.edu/applications/Spitzer/SHA/servlet/ProductDownload?DATASET=level2&ID=11683831   \n",
      "Getting:  http://sha.ipac.caltech.edu/applications/Spitzer/SHA/servlet/ProductDownload?DATASET=level2&ID=11844721   \n",
      "Getting:  http://sha.ipac.caltech.edu/applications/Spitzer/SHA/servlet/ProductDownload?DATASET=level2&ID=11710581   \n",
      "Getting:  http://sha.ipac.caltech.edu/applications/Spitzer/SHA/servlet/ProductDownload?DATASET=level2&ID=11793021   \n",
      "Getting:  http://sha.ipac.caltech.edu/applications/Spitzer/SHA/servlet/ProductDownload?DATASET=level2&ID=11844709   \n",
      "Getting:  http://sha.ipac.caltech.edu/applications/Spitzer/SHA/servlet/ProductDownload?DATASET=level2&ID=11651560   \n",
      "Getting:  http://sha.ipac.caltech.edu/applications/Spitzer/SHA/servlet/ProductDownload?DATASET=level2&ID=11671253   \n",
      "Getting:  http://sha.ipac.caltech.edu/applications/Spitzer/SHA/servlet/ProductDownload?DATASET=level2&ID=11771336   \n"
     ]
    }
   ],
   "source": [
    "for u in irac_36_tbl['accessUrl']:\n",
    "    print(\"Getting: {}\".format(u))\n",
    "    url = u.strip()\n",
    "    sha.save_file(url, out_dir='test_files_3.6um/')"
   ]
  },
  {
   "cell_type": "code",
   "execution_count": null,
   "metadata": {},
   "outputs": [],
   "source": []
  }
 ],
 "metadata": {
  "kernelspec": {
   "display_name": "Python 3",
   "language": "python",
   "name": "python3"
  },
  "language_info": {
   "codemirror_mode": {
    "name": "ipython",
    "version": 3
   },
   "file_extension": ".py",
   "mimetype": "text/x-python",
   "name": "python",
   "nbconvert_exporter": "python",
   "pygments_lexer": "ipython3",
   "version": "3.6.5"
  }
 },
 "nbformat": 4,
 "nbformat_minor": 2
}
