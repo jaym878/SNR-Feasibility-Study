{
 "cells": [
  {
   "cell_type": "code",
   "execution_count": 1,
   "metadata": {},
   "outputs": [],
   "source": [
    "# Imported packages\n",
    "import numpy as np\n",
    "import math\n",
    "from matplotlib import pyplot as plt"
   ]
  },
  {
   "cell_type": "code",
   "execution_count": 2,
   "metadata": {},
   "outputs": [
    {
     "name": "stderr",
     "output_type": "stream",
     "text": [
      "/home/murphyj/anaconda3/lib/python3.6/site-packages/ipykernel_launcher.py:1: VisibleDeprecationWarning: Reading unicode strings without specifying the encoding argument is deprecated. Set the encoding, use None for the system default.\n",
      "  \"\"\"Entry point for launching an IPython kernel.\n"
     ]
    }
   ],
   "source": [
    "line = np.genfromtxt(open('/home/murphyj/Desktop/Coding/SNR_list.csv', \"r\"), names=True, delimiter=',', dtype=None)"
   ]
  },
  {
   "cell_type": "code",
   "execution_count": 3,
   "metadata": {},
   "outputs": [],
   "source": [
    "#print(line[1][0])"
   ]
  },
  {
   "cell_type": "code",
   "execution_count": 4,
   "metadata": {},
   "outputs": [],
   "source": [
    "MCSNR = []#0\n",
    "RA = []#1\n",
    "DE = []#2\n",
    "Rad = []#10\n",
    "kT = []#12\n",
    "VShock = []#16\n",
    "Age = []#18\n",
    "LX = []#4\n",
    "LIR = []#7\n",
    "\n",
    "num = line.shape[0]\n",
    "for n in range(num):\n",
    "    #print(l)\n",
    "    name = line[n][0]\n",
    "    MCSNR.append(name)\n",
    "MCSNR = np.asarray(MCSNR)\n",
    "\n",
    "num = line.shape[0]\n",
    "for n in range(num):\n",
    "    #print(l)\n",
    "    name = line[n][1]\n",
    "    RA.append(name)\n",
    "RA = np.asarray(RA)\n",
    "\n",
    "num = line.shape[0]\n",
    "for n in range(num):\n",
    "    #print(l)\n",
    "    name = line[n][2]\n",
    "    DE.append(name)\n",
    "DE = np.asarray(DE)\n",
    "\n",
    "num = line.shape[0]\n",
    "for n in range(num):\n",
    "    #print(l)\n",
    "    name = line[n][10]\n",
    "    Rad.append(name)\n",
    "Rad = np.asarray(Rad)\n",
    "\n",
    "num = line.shape[0]\n",
    "for n in range(num):\n",
    "    #print(l)\n",
    "    name = line[n][12]\n",
    "    kT.append(name)\n",
    "kT = np.asarray(kT)\n",
    "\n",
    "num = line.shape[0]\n",
    "for n in range(num):\n",
    "    #print(l)\n",
    "    name = line[n][17]\n",
    "    VShock.append(name)\n",
    "VShock = np.asarray(VShock)\n",
    "\n",
    "num = line.shape[0]\n",
    "for n in range(num):\n",
    "    #print(l)\n",
    "    name = line[n][20]\n",
    "    Age.append(name)\n",
    "Age = np.asarray(Age)\n",
    "\n",
    "num = line.shape[0]\n",
    "for n in range(num):\n",
    "    #print(l)\n",
    "    name = line[n][4]\n",
    "    LX.append(name)\n",
    "LX = np.asarray(LX)\n",
    "\n",
    "num = line.shape[0]\n",
    "for n in range(num):\n",
    "    #print(l)\n",
    "    name = line[n][7]\n",
    "    LIR.append(name)\n",
    "LIR = np.asarray(LIR)"
   ]
  },
  {
   "cell_type": "code",
   "execution_count": 11,
   "metadata": {},
   "outputs": [
    {
     "name": "stdout",
     "output_type": "stream",
     "text": [
      "[[b'04' b'49' b'20']]\n"
     ]
    }
   ],
   "source": [
    "Ra = []\n",
    "for n in range(num):\n",
    "    things = RA[n].split()\n",
    "    Ra.append(things)\n",
    "Ra = np.asarray(Ra)\n",
    "#print(Ra[0:1])\n",
    "\n",
    "Dec = []\n",
    "for n in range(num):\n",
    "    things = DE[n].split()\n",
    "    Dec.append(things)\n",
    "Dec = np.asarray(Dec)\n",
    "#print(Dec)"
   ]
  },
  {
   "cell_type": "code",
   "execution_count": 6,
   "metadata": {},
   "outputs": [
    {
     "name": "stderr",
     "output_type": "stream",
     "text": [
      "/home/murphyj/anaconda3/lib/python3.6/site-packages/ipykernel_launcher.py:4: RuntimeWarning: divide by zero encountered in log\n",
      "  after removing the cwd from sys.path.\n",
      "/home/murphyj/anaconda3/lib/python3.6/site-packages/ipykernel_launcher.py:5: RuntimeWarning: divide by zero encountered in log\n",
      "  \"\"\"\n"
     ]
    },
    {
     "data": {
      "text/plain": [
       "<function matplotlib.pyplot.show(*args, **kw)>"
      ]
     },
     "execution_count": 6,
     "metadata": {},
     "output_type": "execute_result"
    },
    {
     "data": {
      "image/png": "[encoded data removed]",
      "text/plain": [
       "<Figure size 432x288 with 1 Axes>"
      ]
     },
     "metadata": {},
     "output_type": "display_data"
    }
   ],
   "source": [
    "plt.title('Plot of X-ray/IR Luminosity vs Age for LMC SNRs')\n",
    "plt.xlabel('Age (kyr)')\n",
    "plt.ylabel('Log10 Luminosity (erg)')\n",
    "plt.plot(Age, np.log(LX), 'bo', label = 'X-Ray')\n",
    "plt.plot(Age, np.log(LIR), 'ro', label = 'IR')\n",
    "plt.legend(loc='upper right')\n",
    "plt.show"
   ]
  },
  {
   "cell_type": "code",
   "execution_count": 7,
   "metadata": {},
   "outputs": [
    {
     "name": "stderr",
     "output_type": "stream",
     "text": [
      "/home/murphyj/anaconda3/lib/python3.6/site-packages/ipykernel_launcher.py:4: RuntimeWarning: divide by zero encountered in log\n",
      "  after removing the cwd from sys.path.\n",
      "/home/murphyj/anaconda3/lib/python3.6/site-packages/ipykernel_launcher.py:5: RuntimeWarning: divide by zero encountered in log\n",
      "  \"\"\"\n"
     ]
    },
    {
     "data": {
      "text/plain": [
       "<function matplotlib.pyplot.show(*args, **kw)>"
      ]
     },
     "execution_count": 7,
     "metadata": {},
     "output_type": "execute_result"
    },
    {
     "data": {
      "image/png": "[encoded data removed]",
      "text/plain": [
       "<Figure size 432x288 with 1 Axes>"
      ]
     },
     "metadata": {},
     "output_type": "display_data"
    }
   ],
   "source": [
    "plt.title('Plot of X-ray/IR Luminosity vs VShock for LMC SNRs')\n",
    "plt.xlabel('VShock (km/s)')\n",
    "plt.ylabel('Log10 Luminosity (erg)')\n",
    "plt.plot(VShock, np.log(LX), 'bo', label = 'X-Ray')\n",
    "plt.plot(VShock, np.log(LIR), 'ro', label = 'IR')\n",
    "plt.legend(loc='upper right')\n",
    "plt.show"
   ]
  },
  {
   "cell_type": "code",
   "execution_count": 8,
   "metadata": {},
   "outputs": [
    {
     "name": "stderr",
     "output_type": "stream",
     "text": [
      "/home/murphyj/anaconda3/lib/python3.6/site-packages/ipykernel_launcher.py:4: RuntimeWarning: divide by zero encountered in log\n",
      "  after removing the cwd from sys.path.\n",
      "/home/murphyj/anaconda3/lib/python3.6/site-packages/ipykernel_launcher.py:5: RuntimeWarning: divide by zero encountered in log\n",
      "  \"\"\"\n"
     ]
    },
    {
     "data": {
      "text/plain": [
       "<function matplotlib.pyplot.show(*args, **kw)>"
      ]
     },
     "execution_count": 8,
     "metadata": {},
     "output_type": "execute_result"
    },
    {
     "data": {
      "image/png": "[encoded data removed]",
      "text/plain": [
       "<Figure size 432x288 with 1 Axes>"
      ]
     },
     "metadata": {},
     "output_type": "display_data"
    }
   ],
   "source": [
    "plt.title('Plot of X-ray/IR Luminosity vs kT for LMC SNRs')\n",
    "plt.xlabel('log10 kT (keV)')\n",
    "plt.ylabel('Log10 Luminosity (erg)')\n",
    "plt.plot(np.log(kT), np.log(LX), 'bo', label = 'X-Ray')\n",
    "plt.plot(np.log(kT), np.log(LIR), 'ro', label = 'IR')\n",
    "plt.legend(loc='upper right')\n",
    "plt.show"
   ]
  },
  {
   "cell_type": "code",
   "execution_count": 9,
   "metadata": {},
   "outputs": [],
   "source": [
    "## todo\n",
    "## combine ra and dec values and convert to decimal"
   ]
  },
  {
   "cell_type": "code",
   "execution_count": null,
   "metadata": {},
   "outputs": [],
   "source": []
  }
 ],
 "metadata": {
  "kernelspec": {
   "display_name": "Python 3",
   "language": "python",
   "name": "python3"
  },
  "language_info": {
   "codemirror_mode": {
    "name": "ipython",
    "version": 3
   },
   "file_extension": ".py",
   "mimetype": "text/x-python",
   "name": "python",
   "nbconvert_exporter": "python",
   "pygments_lexer": "ipython3",
   "version": "3.6.5"
  }
 },
 "nbformat": 4,
 "nbformat_minor": 2
}
