{
 "cells": [
  {
   "cell_type": "code",
   "execution_count": 1,
   "metadata": {},
   "outputs": [],
   "source": [
    "# Imported packages\n",
    "import numpy as np\n",
    "import math\n",
    "from matplotlib import pyplot as plt"
   ]
  },
  {
   "cell_type": "code",
   "execution_count": 2,
   "metadata": {},
   "outputs": [
    {
     "name": "stderr",
     "output_type": "stream",
     "text": [
      "/home/murphyj/anaconda3/lib/python3.6/site-packages/ipykernel_launcher.py:1: VisibleDeprecationWarning: Reading unicode strings without specifying the encoding argument is deprecated. Set the encoding, use None for the system default.\n",
      "  \"\"\"Entry point for launching an IPython kernel.\n"
     ]
    }
   ],
   "source": [
    "line = np.genfromtxt(open('/home/murphyj/Desktop/Coding/SNR_list.csv', \"r\"), names=True, delimiter='\\t', dtype=None)"
   ]
  },
  {
   "cell_type": "code",
   "execution_count": 7,
   "metadata": {},
   "outputs": [
    {
     "name": "stdout",
     "output_type": "stream",
     "text": [
      "(b'J0450-7050,04 50 27,-70 50 15,0.59,5.9E+20,0,0,0,340,0.0944,1.24E+17,4.01,0.24,0.02,0.02,1.50E-03,4.49E+05,448.64,1.10E+11,3.50E+03,3.495',)\n"
     ]
    }
   ],
   "source": [
    "print(line[1])"
   ]
  },
  {
   "cell_type": "code",
   "execution_count": 5,
   "metadata": {},
   "outputs": [
    {
     "ename": "IndexError",
     "evalue": "invalid index (1)",
     "output_type": "error",
     "traceback": [
      "\u001b[0;31m---------------------------------------------------------------------------\u001b[0m",
      "\u001b[0;31mIndexError\u001b[0m                                Traceback (most recent call last)",
      "\u001b[0;32m<ipython-input-5-dad5869d7e84>\u001b[0m in \u001b[0;36m<module>\u001b[0;34m()\u001b[0m\n\u001b[1;32m     19\u001b[0m \u001b[0;32mfor\u001b[0m \u001b[0mn\u001b[0m \u001b[0;32min\u001b[0m \u001b[0mrange\u001b[0m\u001b[0;34m(\u001b[0m\u001b[0mnum\u001b[0m\u001b[0;34m)\u001b[0m\u001b[0;34m:\u001b[0m\u001b[0;34m\u001b[0m\u001b[0m\n\u001b[1;32m     20\u001b[0m     \u001b[0;31m#print(l)\u001b[0m\u001b[0;34m\u001b[0m\u001b[0;34m\u001b[0m\u001b[0m\n\u001b[0;32m---> 21\u001b[0;31m     \u001b[0mname\u001b[0m \u001b[0;34m=\u001b[0m \u001b[0mline\u001b[0m\u001b[0;34m[\u001b[0m\u001b[0mn\u001b[0m\u001b[0;34m]\u001b[0m\u001b[0;34m[\u001b[0m\u001b[0;36m1\u001b[0m\u001b[0;34m]\u001b[0m\u001b[0;34m\u001b[0m\u001b[0m\n\u001b[0m\u001b[1;32m     22\u001b[0m     \u001b[0mRA\u001b[0m\u001b[0;34m.\u001b[0m\u001b[0mappend\u001b[0m\u001b[0;34m(\u001b[0m\u001b[0mname\u001b[0m\u001b[0;34m)\u001b[0m\u001b[0;34m\u001b[0m\u001b[0m\n\u001b[1;32m     23\u001b[0m \u001b[0mRA\u001b[0m \u001b[0;34m=\u001b[0m \u001b[0mnp\u001b[0m\u001b[0;34m.\u001b[0m\u001b[0masarray\u001b[0m\u001b[0;34m(\u001b[0m\u001b[0mRA\u001b[0m\u001b[0;34m)\u001b[0m\u001b[0;34m\u001b[0m\u001b[0m\n",
      "\u001b[0;31mIndexError\u001b[0m: invalid index (1)"
     ]
    }
   ],
   "source": [
    "MCSNR = []#0\n",
    "RA = []#1\n",
    "DE = []#2\n",
    "Rad = []#10\n",
    "kT = []#12\n",
    "VShock = []#16\n",
    "Age = []#18\n",
    "LX = []#4\n",
    "LIR = []#7\n",
    "\n",
    "num = line.shape[0]\n",
    "for n in range(num):\n",
    "    #print(l)\n",
    "    name = line[n][0]\n",
    "    MCSNR.append(name)\n",
    "MCSNR = np.asarray(MCSNR)\n",
    "\n",
    "num = line.shape[0]\n",
    "for n in range(num):\n",
    "    #print(l)\n",
    "    name = line[n][1]\n",
    "    RA.append(name)\n",
    "RA = np.asarray(RA)\n",
    "\n",
    "num = line.shape[0]\n",
    "for n in range(num):\n",
    "    #print(l)\n",
    "    name = line[n][2]\n",
    "    DE.append(name)\n",
    "DE = np.asarray(DE)\n",
    "\n",
    "num = line.shape[0]\n",
    "for n in range(num):\n",
    "    #print(l)\n",
    "    name = line[n][10]\n",
    "    Rad.append(name)\n",
    "Rad = np.asarray(Rad)\n",
    "\n",
    "num = line.shape[0]\n",
    "for n in range(num):\n",
    "    #print(l)\n",
    "    name = line[n][12]\n",
    "    kT.append(name)\n",
    "kT = np.asarray(kT)\n",
    "\n",
    "num = line.shape[0]\n",
    "for n in range(num):\n",
    "    #print(l)\n",
    "    name = line[n][16]\n",
    "    VShock.append(name)\n",
    "VShock = np.asarray(VShock)\n",
    "\n",
    "num = line.shape[0]\n",
    "for n in range(num):\n",
    "    #print(l)\n",
    "    name = line[n][18]\n",
    "    Age.append(name)\n",
    "Age = np.asarray(Age)\n",
    "\n",
    "num = line.shape[0]\n",
    "for n in range(num):\n",
    "    #print(l)\n",
    "    name = line[n][4]\n",
    "    LX.append(name)\n",
    "LX = np.asarray(LX)\n",
    "\n",
    "num = line.shape[0]\n",
    "for n in range(num):\n",
    "    #print(l)\n",
    "    name = line[n][7]\n",
    "    LX.append(name)\n",
    "LX = np.asarray(LX)"
   ]
  },
  {
   "cell_type": "code",
   "execution_count": 5,
   "metadata": {},
   "outputs": [],
   "source": [
    "Ra = []\n",
    "for n in range(num):\n",
    "    things = RA[n].split()\n",
    "    Ra.append(things)\n",
    "Ra = np.asarray(Ra)\n",
    "#print(Ra)\n",
    "\n",
    "Dec = []\n",
    "for n in range(num):\n",
    "    things = DE[n].split()\n",
    "    Dec.append(things)\n",
    "Dec = np.asarray(Dec)\n",
    "#print(Dec)"
   ]
  },
  {
   "cell_type": "code",
   "execution_count": 6,
   "metadata": {},
   "outputs": [
    {
     "name": "stderr",
     "output_type": "stream",
     "text": [
      "/home/murphyj/anaconda3/lib/python3.6/site-packages/ipykernel_launcher.py:3: RuntimeWarning: divide by zero encountered in log\n",
      "  This is separate from the ipykernel package so we can avoid doing imports until\n"
     ]
    },
    {
     "data": {
      "text/plain": [
       "<matplotlib.collections.PathCollection at 0x7f716b8007b8>"
      ]
     },
     "execution_count": 6,
     "metadata": {},
     "output_type": "execute_result"
    },
    {
     "data": {
      "image/png": "[encoded data removed]",
      "text/plain": [
       "<Figure size 432x288 with 1 Axes>"
      ]
     },
     "metadata": {},
     "output_type": "display_data"
    }
   ],
   "source": [
    "#plt.scatter(Rad, Age)\n",
    "\n",
    "plt.scatter(np.log(Rad), np.log(Age), color = 'red')"
   ]
  },
  {
   "cell_type": "code",
   "execution_count": 7,
   "metadata": {},
   "outputs": [],
   "source": [
    "## todo\n",
    "## combine ra and dec values and convert to decimal"
   ]
  },
  {
   "cell_type": "code",
   "execution_count": null,
   "metadata": {},
   "outputs": [],
   "source": []
  }
 ],
 "metadata": {
  "kernelspec": {
   "display_name": "Python 3",
   "language": "python",
   "name": "python3"
  },
  "language_info": {
   "codemirror_mode": {
    "name": "ipython",
    "version": 3
   },
   "file_extension": ".py",
   "mimetype": "text/x-python",
   "name": "python",
   "nbconvert_exporter": "python",
   "pygments_lexer": "ipython3",
   "version": "3.6.5"
  }
 },
 "nbformat": 4,
 "nbformat_minor": 2
}
