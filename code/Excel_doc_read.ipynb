{
 "cells": [
  {
   "cell_type": "code",
   "execution_count": 1,
   "metadata": {},
   "outputs": [],
   "source": [
    "# Imported packages\n",
    "import numpy as np\n",
    "import math\n",
    "from matplotlib import pyplot as plt"
   ]
  },
  {
   "cell_type": "code",
   "execution_count": 2,
   "metadata": {},
   "outputs": [
    {
     "name": "stderr",
     "output_type": "stream",
     "text": [
      "/home/murphyj/anaconda3/lib/python3.6/site-packages/ipykernel_launcher.py:1: VisibleDeprecationWarning: Reading unicode strings without specifying the encoding argument is deprecated. Set the encoding, use None for the system default.\n",
      "  \"\"\"Entry point for launching an IPython kernel.\n"
     ]
    }
   ],
   "source": [
    "line = np.genfromtxt(open('/home/murphyj/Desktop/Coding/SNR_list.csv', \"r\"), names=True, delimiter=',', dtype=None)"
   ]
  },
  {
   "cell_type": "code",
   "execution_count": 3,
   "metadata": {},
   "outputs": [],
   "source": [
    "#print(line[1][0])"
   ]
  },
  {
   "cell_type": "code",
   "execution_count": 4,
   "metadata": {},
   "outputs": [],
   "source": [
    "MCSNR = []#0\n",
    "RA = []#1\n",
    "DE = []#2\n",
    "Rad = []#10\n",
    "kT = []#12\n",
    "VShock = []#16\n",
    "Age = []#18\n",
    "LX = []#4\n",
    "LIR = []#7\n",
    "RIO = []#11\n",
    "\n",
    "num = line.shape[0]\n",
    "\n",
    "for n in range(num):\n",
    "    #print(l)\n",
    "    name = line[n][0]\n",
    "    MCSNR.append(name)\n",
    "MCSNR = np.asarray(MCSNR)\n",
    "\n",
    "for n in range(num):\n",
    "    #print(l)\n",
    "    name = line[n][1]\n",
    "    RA.append(name)\n",
    "RA = np.asarray(RA)\n",
    "\n",
    "for n in range(num):\n",
    "    #print(l)\n",
    "    name = line[n][2]\n",
    "    DE.append(name)\n",
    "DE = np.asarray(DE)\n",
    "\n",
    "for n in range(num):\n",
    "    #print(l)\n",
    "    name = line[n][10]\n",
    "    Rad.append(name)\n",
    "Rad = np.asarray(Rad)\n",
    "\n",
    "for n in range(num):\n",
    "    #print(l)\n",
    "    name = line[n][12]\n",
    "    kT.append(name)\n",
    "kT = np.asarray(kT)\n",
    "\n",
    "for n in range(num):\n",
    "    #print(l)\n",
    "    name = line[n][17]\n",
    "    VShock.append(name)\n",
    "VShock = np.asarray(VShock)\n",
    "\n",
    "for n in range(num):\n",
    "    #print(l)\n",
    "    name = line[n][20]\n",
    "    Age.append(name)\n",
    "Age = np.asarray(Age)\n",
    "\n",
    "for n in range(num):\n",
    "    #print(l)\n",
    "    name = line[n][4]\n",
    "    LX.append(name)\n",
    "LX = np.asarray(LX)\n",
    "\n",
    "for n in range(num):\n",
    "    #print(l)\n",
    "    name = line[n][7]\n",
    "    LIR.append(name)\n",
    "LIR = np.asarray(LIR)\n",
    "\n",
    "for n in range(num):\n",
    "    #print(l)\n",
    "    name = line[n][11]\n",
    "    RIO.append(name)\n",
    "RIO = np.asarray(RIO)"
   ]
  },
  {
   "cell_type": "code",
   "execution_count": 5,
   "metadata": {},
   "outputs": [
    {
     "name": "stdout",
     "output_type": "stream",
     "text": [
      "b'J0528-6727'\n"
     ]
    }
   ],
   "source": [
    "print(MCSNR[34])"
   ]
  },
  {
   "cell_type": "code",
   "execution_count": 6,
   "metadata": {},
   "outputs": [],
   "source": [
    "Ra = []\n",
    "for n in range(num):\n",
    "    things = RA[n].split()\n",
    "    Ra.append(things)\n",
    "Ra = np.asarray(Ra)\n",
    "#print(Ra[0:1])\n",
    "\n",
    "Dec = []\n",
    "for n in range(num):\n",
    "    things = DE[n].split()\n",
    "    Dec.append(things)\n",
    "Dec = np.asarray(Dec)\n",
    "#print(Dec)"
   ]
  },
  {
   "cell_type": "code",
   "execution_count": 7,
   "metadata": {},
   "outputs": [],
   "source": [
    "for n in range(num):\n",
    "    if Age[n] == 0:\n",
    "        Age[n] = None\n",
    "        LX[n] = None\n",
    "        LIR[n] = None\n",
    "        VShock[n] = None\n",
    "        RIO[n] = None"
   ]
  },
  {
   "cell_type": "code",
   "execution_count": 8,
   "metadata": {},
   "outputs": [
    {
     "name": "stderr",
     "output_type": "stream",
     "text": [
      "/home/murphyj/anaconda3/lib/python3.6/site-packages/ipykernel_launcher.py:4: RuntimeWarning: divide by zero encountered in log\n",
      "  after removing the cwd from sys.path.\n",
      "/home/murphyj/anaconda3/lib/python3.6/site-packages/ipykernel_launcher.py:5: RuntimeWarning: divide by zero encountered in log\n",
      "  \"\"\"\n"
     ]
    },
    {
     "data": {
      "text/plain": [
       "<function matplotlib.pyplot.show(*args, **kw)>"
      ]
     },
     "execution_count": 8,
     "metadata": {},
     "output_type": "execute_result"
    },
    {
     "data": {
      "image/png": "[encoded data removed]",
      "text/plain": [
       "<Figure size 432x288 with 1 Axes>"
      ]
     },
     "metadata": {},
     "output_type": "display_data"
    }
   ],
   "source": [
    "plt.title('Plot of X-ray/IR Luminosity vs Age for LMC SNRs')\n",
    "plt.xlabel('Age (kyr)')\n",
    "plt.ylabel('ln Luminosity (erg)')\n",
    "plt.plot(Age, np.log(LX), 'bo', label = 'X-Ray')\n",
    "plt.plot(Age, np.log(LIR), 'ro', label = 'IR')\n",
    "plt.legend(loc='upper right')\n",
    "plt.show"
   ]
  },
  {
   "cell_type": "code",
   "execution_count": 9,
   "metadata": {},
   "outputs": [
    {
     "name": "stderr",
     "output_type": "stream",
     "text": [
      "/home/murphyj/anaconda3/lib/python3.6/site-packages/ipykernel_launcher.py:4: RuntimeWarning: divide by zero encountered in log\n",
      "  after removing the cwd from sys.path.\n",
      "/home/murphyj/anaconda3/lib/python3.6/site-packages/ipykernel_launcher.py:5: RuntimeWarning: divide by zero encountered in log\n",
      "  \"\"\"\n"
     ]
    },
    {
     "data": {
      "text/plain": [
       "<function matplotlib.pyplot.show(*args, **kw)>"
      ]
     },
     "execution_count": 9,
     "metadata": {},
     "output_type": "execute_result"
    },
    {
     "data": {
      "image/png": "[encoded data removed]",
      "text/plain": [
       "<Figure size 432x288 with 1 Axes>"
      ]
     },
     "metadata": {},
     "output_type": "display_data"
    }
   ],
   "source": [
    "plt.title('Plot of X-ray/IR Luminosity vs VShock for LMC SNRs')\n",
    "plt.xlabel('VShock (km/s)')\n",
    "plt.ylabel('ln Luminosity (erg)')\n",
    "plt.plot(VShock, np.log(LX), 'bo', label = 'X-Ray')\n",
    "plt.plot(VShock, np.log(LIR), 'ro', label = 'IR')\n",
    "plt.legend(loc='upper right')\n",
    "plt.show"
   ]
  },
  {
   "cell_type": "code",
   "execution_count": 10,
   "metadata": {},
   "outputs": [
    {
     "name": "stderr",
     "output_type": "stream",
     "text": [
      "/home/murphyj/anaconda3/lib/python3.6/site-packages/ipykernel_launcher.py:4: RuntimeWarning: divide by zero encountered in log\n",
      "  after removing the cwd from sys.path.\n",
      "/home/murphyj/anaconda3/lib/python3.6/site-packages/ipykernel_launcher.py:5: RuntimeWarning: divide by zero encountered in log\n",
      "  \"\"\"\n"
     ]
    },
    {
     "data": {
      "text/plain": [
       "<function matplotlib.pyplot.show(*args, **kw)>"
      ]
     },
     "execution_count": 10,
     "metadata": {},
     "output_type": "execute_result"
    },
    {
     "data": {
      "image/png": "[encoded data removed]",
      "text/plain": [
       "<Figure size 432x288 with 1 Axes>"
      ]
     },
     "metadata": {},
     "output_type": "display_data"
    }
   ],
   "source": [
    "plt.title('Plot of X-ray/IR Luminosity vs kT for LMC SNRs')\n",
    "plt.xlabel('ln kT (keV)')\n",
    "plt.ylabel('ln Luminosity (erg)')\n",
    "plt.plot(np.log(kT), np.log(LX), 'bo', label = 'X-Ray')\n",
    "plt.plot(np.log(kT), np.log(LIR), 'ro', label = 'IR')\n",
    "plt.legend(loc='upper right')\n",
    "plt.show"
   ]
  },
  {
   "cell_type": "code",
   "execution_count": 11,
   "metadata": {},
   "outputs": [
    {
     "data": {
      "text/plain": [
       "<function matplotlib.pyplot.show(*args, **kw)>"
      ]
     },
     "execution_count": 11,
     "metadata": {},
     "output_type": "execute_result"
    },
    {
     "data": {
      "image/png": "[encoded data removed]",
      "text/plain": [
       "<Figure size 432x288 with 1 Axes>"
      ]
     },
     "metadata": {},
     "output_type": "display_data"
    }
   ],
   "source": [
    "plt.title('IR/ X-ray Ratio vs SNR Age')\n",
    "plt.xlabel('Age (Kyr)')\n",
    "plt.ylabel('Ratio of X-ray luminosity to IR')\n",
    "Age = Age[np.logical_not(np.isnan(Age))]\n",
    "RIO = RIO[np.logical_not(np.isnan(RIO))]\n",
    "trend = np.polyfit(Age, RIO, 1)\n",
    "plt.plot(Age, RIO, 'bo')\n",
    "plt.plot(Age,trend[1]+trend[0]*Age)\n",
    "plt.show"
   ]
  },
  {
   "cell_type": "code",
   "execution_count": null,
   "metadata": {},
   "outputs": [],
   "source": []
  }
 ],
 "metadata": {
  "kernelspec": {
   "display_name": "Python 3",
   "language": "python",
   "name": "python3"
  },
  "language_info": {
   "codemirror_mode": {
    "name": "ipython",
    "version": 3
   },
   "file_extension": ".py",
   "mimetype": "text/x-python",
   "name": "python",
   "nbconvert_exporter": "python",
   "pygments_lexer": "ipython3",
   "version": "3.6.5"
  }
 },
 "nbformat": 4,
 "nbformat_minor": 2
}
